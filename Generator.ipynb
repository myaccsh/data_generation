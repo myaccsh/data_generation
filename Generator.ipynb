{
 "cells": [
  {
   "cell_type": "code",
   "execution_count": 106,
   "metadata": {},
   "outputs": [],
   "source": [
    "import os\n",
    "import random\n",
    "import itertools\n",
    "import numpy as np\n",
    "import cv2\n",
    "from imgaug import augmenters as iaa\n",
    "from imgaug.augmentables.bbs import BoundingBox, BoundingBoxesOnImage\n",
    "import xml.etree.ElementTree as et"
   ]
  },
  {
   "cell_type": "code",
   "execution_count": 107,
   "metadata": {},
   "outputs": [],
   "source": [
    "os.chdir('C:\\\\Users\\\\Timur\\\\Documents\\\\python_projects\\\\Comvis\\\\generation_data\\\\data')"
   ]
  },
  {
   "cell_type": "code",
   "execution_count": 108,
   "metadata": {},
   "outputs": [],
   "source": [
    "def box_points(img_shape, points):\n",
    "    for i in range(len(points)):\n",
    "        if i % 2 == 0:\n",
    "            points[i] = int(points[i])/(img_shape[1]/256)\n",
    "        else:\n",
    "            points[i] = int(points[i])/(img_shape[0]/256)\n",
    "    return points"
   ]
  },
  {
   "cell_type": "code",
   "execution_count": 109,
   "metadata": {},
   "outputs": [],
   "source": [
    "seq0 = iaa.OneOf(\n",
    "    [\n",
    "        iaa.Snowflakes(flake_size= 0.6, speed=0.06),\n",
    "        iaa.Clouds(1),\n",
    "        iaa.RainLayer(density=(0.3,0.4), density_uniformity = (0.5,0.7), drop_size = (0.3, 0.4), drop_size_uniformity = 0.5, angle = 2, speed = (0.2, 0.4), blur_sigma_fraction = 0.9)\n",
    "    ] )"
   ]
  },
  {
   "cell_type": "code",
   "execution_count": 110,
   "metadata": {},
   "outputs": [],
   "source": [
    "seq1 = iaa.OneOf(\n",
    "    [\n",
    "        iaa.GaussianBlur(sigma= (0.7 ,1.2)),\n",
    "        iaa.LinearContrast((0.6,1.3)),\n",
    "        iaa.Multiply((0.9,1.2), per_channel=0.2)\n",
    "    ])"
   ]
  },
  {
   "cell_type": "code",
   "execution_count": 111,
   "metadata": {},
   "outputs": [],
   "source": [
    "seq = iaa.SomeOf(2,\n",
    "    [\n",
    "        seq1,\n",
    "        seq0,\n",
    "        iaa.Fliplr(1),\n",
    "        iaa.Sometimes(0.5, iaa.Affine(rotate=(-5,5))),\n",
    "        iaa.Sometimes(0.4, iaa.Crop(percent=(0, 0.05)))\n",
    "    ])"
   ]
  },
  {
   "cell_type": "code",
   "execution_count": 112,
   "metadata": {},
   "outputs": [],
   "source": [
    "def augmentation(img, bbs, n, file_name, img_name):\n",
    "    image_aug, bbs_aug = seq(image=image, bounding_boxes=bbs)\n",
    "    for i in range(len(bbs_aug.bounding_boxes)):\n",
    "        new_box = bbs_aug.bounding_boxes[i]\n",
    "    img_path = f'{n}.jpg'\n",
    "    cv2.imwrite(img_path, image_aug)\n",
    "    os.chdir('../aug_labels')\n",
    "    my_file = open(f\"{n}.txt\", \"w+\")\n",
    "    my_file.write(f\"{file_name}\\n{img_name}\\n{new_box.x1}, {new_box.y1}, {new_box.x2}, {new_box.y2}\")\n",
    "    my_file.close()"
   ]
  },
  {
   "cell_type": "code",
   "execution_count": 113,
   "metadata": {
    "scrolled": true
   },
   "outputs": [
    {
     "ename": "AttributeError",
     "evalue": "'NoneType' object has no attribute 'text'",
     "output_type": "error",
     "traceback": [
      "\u001b[1;31m---------------------------------------------------------------------------\u001b[0m",
      "\u001b[1;31mAttributeError\u001b[0m                            Traceback (most recent call last)",
      "\u001b[1;32m<ipython-input-113-a5652cef5783>\u001b[0m in \u001b[0;36m<module>\u001b[1;34m\u001b[0m\n\u001b[0;32m     10\u001b[0m         \u001b[0mtree\u001b[0m \u001b[1;33m=\u001b[0m \u001b[0met\u001b[0m\u001b[1;33m.\u001b[0m\u001b[0mparse\u001b[0m\u001b[1;33m(\u001b[0m\u001b[0mimg_label\u001b[0m\u001b[1;33m)\u001b[0m\u001b[1;33m\u001b[0m\u001b[1;33m\u001b[0m\u001b[0m\n\u001b[0;32m     11\u001b[0m         \u001b[0mfile_name\u001b[0m \u001b[1;33m=\u001b[0m \u001b[0mtree\u001b[0m\u001b[1;33m.\u001b[0m\u001b[0mfind\u001b[0m\u001b[1;33m(\u001b[0m\u001b[1;34m'filename'\u001b[0m\u001b[1;33m)\u001b[0m\u001b[1;33m.\u001b[0m\u001b[0mtext\u001b[0m\u001b[1;33m\u001b[0m\u001b[1;33m\u001b[0m\u001b[0m\n\u001b[1;32m---> 12\u001b[1;33m         \u001b[0mimg_name\u001b[0m \u001b[1;33m=\u001b[0m \u001b[0mtree\u001b[0m\u001b[1;33m.\u001b[0m\u001b[0mfind\u001b[0m\u001b[1;33m(\u001b[0m\u001b[1;34m'object/name'\u001b[0m\u001b[1;33m)\u001b[0m\u001b[1;33m.\u001b[0m\u001b[0mtext\u001b[0m\u001b[1;33m\u001b[0m\u001b[1;33m\u001b[0m\u001b[0m\n\u001b[0m\u001b[0;32m     13\u001b[0m         \u001b[0mboxes\u001b[0m \u001b[1;33m=\u001b[0m \u001b[0mtree\u001b[0m\u001b[1;33m.\u001b[0m\u001b[0mfindall\u001b[0m\u001b[1;33m(\u001b[0m\u001b[1;34m'object/bndbox'\u001b[0m\u001b[1;33m)\u001b[0m\u001b[1;33m\u001b[0m\u001b[1;33m\u001b[0m\u001b[0m\n\u001b[0;32m     14\u001b[0m         \u001b[1;32mfor\u001b[0m \u001b[0mbox\u001b[0m \u001b[1;32min\u001b[0m \u001b[0mboxes\u001b[0m\u001b[1;33m:\u001b[0m\u001b[1;33m\u001b[0m\u001b[1;33m\u001b[0m\u001b[0m\n",
      "\u001b[1;31mAttributeError\u001b[0m: 'NoneType' object has no attribute 'text'"
     ]
    }
   ],
   "source": [
    "for item in os.listdir():\n",
    "    os.chdir(f'C:\\\\Users\\\\Timur\\\\Documents\\\\python_projects\\\\Comvis\\\\generation_data\\\\data\\\\{item}\\\\labels')\n",
    "    os.mkdir('../aug_images')\n",
    "    os.mkdir('../aug_labels')\n",
    "    count = 0\n",
    "    for img_label in os.listdir():\n",
    "        bb = []\n",
    "        bb_points = []\n",
    "        count += 1\n",
    "        tree = et.parse(img_label)\n",
    "        file_name = tree.find('filename').text\n",
    "        img_name = tree.find('object/name').text\n",
    "        boxes = tree.findall('object/bndbox')\n",
    "        for box in boxes:\n",
    "            for elem in box:\n",
    "                bb_points.append(elem.text) \n",
    "        os.chdir('../images')\n",
    "        image = cv2.imread(file_name)\n",
    "        bb_points = box_points(image.shape, bb_points)\n",
    "        os.chdir('../aug_images')\n",
    "        for i in range(len(bb_points)//4): \n",
    "            bb.append(BoundingBox(x1=bb_points[i*4-4], y1=bb_points[i*4-3], x2=bb_points[i*4-2], y2=bb_points[i*4-1]))\n",
    "        bbs = BoundingBoxesOnImage(bb, shape=(256,256))\n",
    "        image = cv2.resize(image, (256,256))\n",
    "        augmentation(image, bbs, count, file_name, img_name)\n",
    "        os.chdir('../labels')\n",
    "    os.chdir(f'C:\\\\Users\\\\Timur\\\\Documents\\\\python_projects\\\\Comvis\\\\generation_data\\\\data\\\\')"
   ]
  }
 ],
 "metadata": {
  "kernelspec": {
   "display_name": "Python 3",
   "language": "python",
   "name": "python3"
  },
  "language_info": {
   "codemirror_mode": {
    "name": "ipython",
    "version": 3
   },
   "file_extension": ".py",
   "mimetype": "text/x-python",
   "name": "python",
   "nbconvert_exporter": "python",
   "pygments_lexer": "ipython3",
   "version": "3.8.3"
  }
 },
 "nbformat": 4,
 "nbformat_minor": 4
}
